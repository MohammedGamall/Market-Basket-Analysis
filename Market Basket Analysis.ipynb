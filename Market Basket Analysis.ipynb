{
 "cells": [
  {
   "cell_type": "markdown",
   "metadata": {},
   "source": [
    "Dataset From Kaggle \n",
    "https://www.kaggle.com/datasets/aslanahmedov/market-basket-analysis?resource=download\n",
    "Market Basket Analysis"
   ]
  },
  {
   "cell_type": "code",
   "execution_count": null,
   "metadata": {},
   "outputs": [],
   "source": [
    "from Shortcuts import ToolBox\n",
    "import pandas as pd\n",
    "import numpy as np\n",
    "\n",
    "# Data visualisierung\n",
    "import seaborn as sns\n",
    "import matplotlib.pyplot as plt\n",
    "import matplotlib.ticker as ticker\n",
    "\n",
    "import pandas as pd\n",
    "import plotly.express as px\n",
    "import plotly.figure_factory as ff"
   ]
  },
  {
   "cell_type": "code",
   "execution_count": null,
   "metadata": {},
   "outputs": [],
   "source": [
    "# Load the dataset\n",
    "data_raw = pd.read_csv('Assignment-1_Data.csv', sep=';')\n",
    "data_raw.head()"
   ]
  },
  {
   "cell_type": "code",
   "execution_count": null,
   "metadata": {},
   "outputs": [],
   "source": [
    "## take a lot about our branches countries\n",
    "data_raw['Country'].unique()"
   ]
  },
  {
   "cell_type": "code",
   "execution_count": null,
   "metadata": {},
   "outputs": [],
   "source": [
    "# user defined function to show missing values, describe the data stats, and a sample from the data\n",
    "ToolBox.explore_df(data_raw)"
   ]
  },
  {
   "cell_type": "markdown",
   "metadata": {},
   "source": [
    "## Data Problems\n"
   ]
  },
  {
   "cell_type": "markdown",
   "metadata": {},
   "source": [
    "- Negative quantites\n",
    "- Date Syntax\n",
    "- Missing Values\n",
    "- Price Column include commas\n",
    "- Remove outliers"
   ]
  },
  {
   "cell_type": "markdown",
   "metadata": {},
   "source": [
    "Using this Dataset is very valuable for me to test my skills in Analyising the market basket trends and sales and identify pattern as in an industry of retails as that's my most important interest in the real world problems"
   ]
  },
  {
   "cell_type": "markdown",
   "metadata": {},
   "source": [
    "## Data Cleaning "
   ]
  },
  {
   "cell_type": "code",
   "execution_count": null,
   "metadata": {},
   "outputs": [],
   "source": [
    "# Converting Date Column\n",
    "data_raw['Date'] = pd.to_datetime(data_raw['Date'], format='%d.%m.%Y %H:%M')\n",
    "data_raw['YearMonth'] = data_raw['Date'].dt.to_period('M')\n",
    "display(data_raw)"
   ]
  },
  {
   "cell_type": "code",
   "execution_count": null,
   "metadata": {},
   "outputs": [],
   "source": [
    "# We notice that 'Price' column has commas in the numeric values, let's replace them and convert it to float\n",
    "data_raw['Price'] = data_raw['Price'].str.replace(',', '.').astype(float)\n",
    "display(data_raw)"
   ]
  },
  {
   "cell_type": "code",
   "execution_count": null,
   "metadata": {},
   "outputs": [],
   "source": [
    "print(\"percentage of missing data \")\n",
    "print(data_raw.isnull().sum() / data_raw.shape[0]*100)\n",
    "print(data_raw.shape[0])"
   ]
  },
  {
   "cell_type": "markdown",
   "metadata": {},
   "source": [
    "A crucial aspect of data analysis is ensuring the data's integrity by filtering out irrelevant or erroneous entries and handling missing values appropriately. In this chapter, we focus on filtering out non-positive values, removing rows with missing item names, filling in missing customer IDs, and calculating total prices per transaction. These steps are vital to ensure the accuracy and reliability of our subsequent analysis.\n",
    "\n",
    "As the missing data is considered a sensitive data ( item name and customer ID) we can't fill it with any of the recommened rechiniques as we could do with price, qunatity or even the date\n",
    "- We will drop the missing values for the items \n",
    "- Instead of dropping missing values because of the customers IDs we will fill them with thresholder 'NA'\n",
    "- We will filter out all negative prices and quantities as a wrong data entry bug"
   ]
  },
  {
   "cell_type": "code",
   "execution_count": null,
   "metadata": {},
   "outputs": [],
   "source": [
    "# Filtering the dataset to include only rows with values > 0\n",
    "data = data_raw[(data_raw['Quantity']>0) & (data_raw['Price']>0)]"
   ]
  },
  {
   "cell_type": "code",
   "execution_count": null,
   "metadata": {},
   "outputs": [],
   "source": [
    "# Dropping rows without item \n",
    "data = data[data['Itemname'].notnull()]"
   ]
  },
  {
   "cell_type": "code",
   "execution_count": null,
   "metadata": {},
   "outputs": [],
   "source": [
    "# Filling missing customer IDs\n",
    "data = data.fillna('#NA')"
   ]
  },
  {
   "cell_type": "code",
   "execution_count": null,
   "metadata": {},
   "outputs": [],
   "source": [
    "# cleaning item names column\n",
    "data['Itemname'] = data['Itemname'].str.lower()\n",
    "data['Itemname'] = data['Itemname'].str.strip()"
   ]
  },
  {
   "cell_type": "markdown",
   "metadata": {},
   "source": [
    "#### Adding Attributes"
   ]
  },
  {
   "cell_type": "code",
   "execution_count": null,
   "metadata": {},
   "outputs": [],
   "source": [
    "# Calculate GMV per pos / transaction\n",
    "# GMV -> Gross Margin Value \n",
    "data['GMV'] = data['Quantity'] * data['Price']"
   ]
  },
  {
   "cell_type": "markdown",
   "metadata": {},
   "source": [
    "#### Cleaning outliers"
   ]
  },
  {
   "cell_type": "code",
   "execution_count": null,
   "metadata": {},
   "outputs": [],
   "source": [
    "# Create box plots using Plotly Express\n",
    "fig = px.box(data, y=['Quantity', 'GMV'], \n",
    "             title='Box Plot of Quantity and GMV (Outliers Removed)',\n",
    "             labels={'variable': 'Attribute', 'value': 'Value'})\n",
    "\n",
    "# Show the plot\n",
    "fig.show()"
   ]
  },
  {
   "cell_type": "code",
   "execution_count": null,
   "metadata": {},
   "outputs": [],
   "source": [
    "# Remove outliers from 'Quantity' column\n",
    "data_cleaned = ToolBox.remove_outliers_iqr(data, 'Quantity')\n",
    "\n",
    "# Remove outliers from 'GMV' column\n",
    "data_cleaned = ToolBox.remove_outliers_iqr(data, 'GMV')"
   ]
  },
  {
   "cell_type": "markdown",
   "metadata": {},
   "source": [
    "We dropped almost 10% of the values as they are highly inflated and skewed"
   ]
  },
  {
   "cell_type": "markdown",
   "metadata": {},
   "source": [
    "### Investigations Aspects\n",
    "- What's the sales monthly Trend All over the world?\n",
    "- Which is the most important countries with respect to the achieved sales?\n",
    "- what's the most sold item in each country?\n",
    "- in each month which country is bringing most of our revenues?\n",
    "- Relation between Sales and quantity sold?\n",
    "- Customer Behavior?"
   ]
  },
  {
   "cell_type": "markdown",
   "metadata": {},
   "source": [
    "## Exploratory Data Analysis"
   ]
  },
  {
   "cell_type": "markdown",
   "metadata": {},
   "source": [
    "1- What's the sales monthly Trend All over the world?\n",
    "- We group the data by month and year, calculating the total sum of sales to understand the sales trend over time. The resulting visualization depicts the total sales per month."
   ]
  },
  {
   "cell_type": "code",
   "execution_count": null,
   "metadata": {},
   "outputs": [],
   "source": [
    "# Convert 'YearMonth' column to string format\n",
    "data_cleaned['YearMonth'] = data_cleaned['YearMonth'].astype(str)\n",
    "\n",
    "# Grouping the data by month and year, and calculating the total sum of sales\n",
    "monthly_sales = data_cleaned.groupby('YearMonth')['GMV'].sum().reset_index()\n",
    "\n",
    "# Calculate the average GMV across all months\n",
    "average_gmv = monthly_sales['GMV'].mean()\n",
    "\n",
    "# Create a line chart using Plotly Express\n",
    "fig = px.line(monthly_sales, x='YearMonth', y='GMV', title='Total GMV by Month', \n",
    "              labels={'YearMonth': 'Year-Month', 'GMV': 'Total GMV'})\n",
    "\n",
    "# Add a line for the average GMV\n",
    "fig.add_hline(y=average_gmv, line_dash=\"dot\", line_color=\"red\", annotation_text=f'Average GMV ({average_gmv:.2f})', \n",
    "              annotation_position=\"bottom right\")\n",
    "\n",
    "# Show the plot\n",
    "fig.show()"
   ]
  },
  {
   "cell_type": "markdown",
   "metadata": {},
   "source": [
    "We can see that our sales increased dramatically from Aug until reached the peak on Nov and then dropped down below the average by in DEC"
   ]
  },
  {
   "cell_type": "markdown",
   "metadata": {},
   "source": [
    "2- Which is the most important countries with respect to the achieved sales?\n"
   ]
  },
  {
   "cell_type": "code",
   "execution_count": null,
   "metadata": {},
   "outputs": [],
   "source": [
    "# Group by 'Country' and calculate the sum of 'GMV'\n",
    "sales_by_country = data_cleaned.groupby('Country')['GMV'].sum().reset_index()\n",
    "\n",
    "# Sort the DataFrame by 'GMV' in descending order\n",
    "sales_by_country = sales_by_country.sort_values(by='GMV', ascending=False)\n",
    "\n",
    "# Create a bar chart using Plotly Express\n",
    "fig = px.bar(sales_by_country, x='Country', y='GMV', \n",
    "             title='Total Sales by Country',\n",
    "             labels={'Country': 'Country', 'GMV': 'Total Sales'})\n",
    "\n",
    "# Show the plot\n",
    "fig.show()"
   ]
  },
  {
   "cell_type": "markdown",
   "metadata": {},
   "source": [
    "We can conclude that United Kingdom is by far the main stream of sales to our market which needs to studied as a case to apply on the rest of the countries market to be able to develope our market shares"
   ]
  },
  {
   "cell_type": "markdown",
   "metadata": {},
   "source": [
    "3-  what's the most sold item in each country?\n"
   ]
  },
  {
   "cell_type": "code",
   "execution_count": null,
   "metadata": {},
   "outputs": [],
   "source": [
    "# Group by 'Country' and 'Itemname' and calculate the sum of 'GMV'\n",
    "sales_by_country_item = data_cleaned.groupby(['Country', 'Itemname'])['GMV'].sum().reset_index()\n",
    "\n",
    "# Find the index of the maximum GMV for each country\n",
    "idx = sales_by_country_item.groupby('Country')['GMV'].idxmax()\n",
    "\n",
    "# Get the most sold item in each country\n",
    "most_sold_items = sales_by_country_item.loc[idx]\n",
    "\n",
    "# Sort the DataFrame by 'GMV' in descending order\n",
    "most_sold_items = most_sold_items.sort_values(by='GMV', ascending=False)\n",
    "\n",
    "# Create a bar chart using Plotly Express\n",
    "fig = px.bar(most_sold_items, x='Country', y='GMV', color='Itemname',\n",
    "             title='Most Sold Item in Each Country by GMV',\n",
    "             labels={'Country': 'Country', 'GMV': 'Total GMV', 'Itemname': 'Most Sold Item'})\n",
    "\n",
    "# Show the plot\n",
    "fig.show()"
   ]
  },
  {
   "cell_type": "markdown",
   "metadata": {},
   "source": [
    "Now we got an insight about the main product we are marketing in each country, we need to focus our compaigns on these products and search for growth opportunity"
   ]
  },
  {
   "cell_type": "markdown",
   "metadata": {},
   "source": [
    "4- in each month which country is bringing most of our revenues?\n"
   ]
  },
  {
   "cell_type": "code",
   "execution_count": null,
   "metadata": {},
   "outputs": [],
   "source": [
    "# Group by 'YearMonth' and 'Country' and calculate the sum of 'GMV'\n",
    "revenue_by_month_country = data_cleaned.groupby(['YearMonth', 'Country'])['GMV'].sum().reset_index()\n",
    "\n",
    "revenue_by_month_country_filtered = revenue_by_month_country.query(\"Country != 'United Kingdom' &  Country != 'Israel'\")\n",
    "\n",
    "\n",
    "# Calculate the total GMV for each month\n",
    "total_gmv_by_month = revenue_by_month_country_filtered.groupby('YearMonth')['GMV'].transform('sum')\n",
    "\n",
    "# Calculate the percentage contribution of each country to the total sales for each month\n",
    "revenue_by_month_country_filtered['Contribution (%)'] = (revenue_by_month_country_filtered['GMV'] / total_gmv_by_month) * 100\n",
    "\n",
    "# Display the result\n",
    "print(revenue_by_month_country_filtered)"
   ]
  },
  {
   "cell_type": "markdown",
   "metadata": {},
   "source": [
    "As it's a huge amount of values and countries it would be better to be investigated on an operational level to dig deeper on the countries contributions on my sales on a monthly base"
   ]
  },
  {
   "cell_type": "markdown",
   "metadata": {},
   "source": [
    "5- Relation between Sales and quantity sold?\n"
   ]
  },
  {
   "cell_type": "code",
   "execution_count": null,
   "metadata": {},
   "outputs": [],
   "source": [
    "# Create a scatter plot using Plotly Express\n",
    "fig = px.scatter(data_cleaned, x='Quantity', y='GMV', \n",
    "                 title='Relation between Sales and Quantity Sold',\n",
    "                 labels={'Quantity': 'Quantity Sold', 'GMV': 'Sales'})\n",
    "\n",
    "# Show the plot\n",
    "fig.show()"
   ]
  },
  {
   "cell_type": "markdown",
   "metadata": {},
   "source": [
    "### Unique Item Analysis\n",
    "\n",
    "Next, we analyze the uniqueness of items sold per month by grouping the data and calculating the count of unique items. The line plot visualizes the sum of unique items per month."
   ]
  },
  {
   "cell_type": "code",
   "execution_count": null,
   "metadata": {},
   "outputs": [],
   "source": [
    "# Grouping the data by month and year, and calculating the unique items per month\n",
    "monthly_item = data.groupby('YearMonth')['Itemname'].nunique()\n",
    "plt.figure(figsize=(15,5))\n",
    "monthly_item.plot(kind='line', marker='o', color='b')\n",
    "plt.title('Sum of Unique Items per Month')\n",
    "plt.xlabel('Month')\n",
    "plt.ylabel('Sum of Items')\n",
    "plt.grid(True)\n",
    "plt.show()"
   ]
  }
 ],
 "metadata": {
  "kernelspec": {
   "display_name": "Data",
   "language": "python",
   "name": "python3"
  },
  "language_info": {
   "codemirror_mode": {
    "name": "ipython",
    "version": 3
   },
   "file_extension": ".py",
   "mimetype": "text/x-python",
   "name": "python",
   "nbconvert_exporter": "python",
   "pygments_lexer": "ipython3",
   "version": "3.10.9"
  }
 },
 "nbformat": 4,
 "nbformat_minor": 2
}
